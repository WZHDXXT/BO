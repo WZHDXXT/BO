{
 "cells": [
  {
   "cell_type": "code",
   "execution_count": 1,
   "metadata": {},
   "outputs": [],
   "source": [
    "from ioh import get_problem, ProblemClass\n",
    "from ioh import logger\n",
    "import math\n",
    "import os\n",
    "from dataclasses import dataclass\n",
    "import BA \n",
    "from sklearn.decomposition import PCA\n",
    "from sklearn.decomposition import KernelPCA\n",
    "import matplotlib.pyplot as plt\n",
    "import numpy as np\n",
    "import torch\n",
    "from sklearn.random_projection import GaussianRandomProjection\n",
    "import botorch\n",
    "import gpytorch\n",
    "from gpytorch.constraints import Interval\n",
    "from gpytorch.kernels import MaternKernel, ScaleKernel, RBFKernel\n",
    "from gpytorch.likelihoods import GaussianLikelihood\n",
    "from gpytorch.mlls import ExactMarginalLogLikelihood\n",
    "from torch.quasirandom import SobolEngine\n",
    "\n",
    "from botorch.acquisition.analytic import LogExpectedImprovement\n",
    "from botorch.exceptions import ModelFittingError\n",
    "from botorch.fit import fit_gpytorch_mll\n",
    "from botorch.generation import MaxPosteriorSampling\n",
    "from botorch.models import SingleTaskGP\n",
    "from botorch.optim import optimize_acqf\n",
    "from sklearn.preprocessing import StandardScaler\n"
   ]
  },
  {
   "cell_type": "code",
   "execution_count": 2,
   "metadata": {},
   "outputs": [
    {
     "name": "stdout",
     "output_type": "stream",
     "text": [
      "Running on cpu\n"
     ]
    }
   ],
   "source": [
    "device = torch.device(\"cuda\" if torch.cuda.is_available() else \"cpu\")\n",
    "print(f\"Running on {device}\")\n",
    "dtype = torch.float\n",
    "SMOKE_TEST = os.environ.get(\"SMOKE_TEST\")\n",
    "\n",
    "# problem dimension\n",
    "dim = 40 if not SMOKE_TEST else 50\n",
    "projected_dim = 15\n",
    "\n",
    "# initial sample points\n",
    "n_init = 10 if not SMOKE_TEST else 4\n",
    "max_cholesky_size = float(\"inf\")\n",
    "\n",
    "problem = get_problem(1, dimension=dim, instance=2, problem_class=ProblemClass.BBOB)"
   ]
  },
  {
   "cell_type": "code",
   "execution_count": 3,
   "metadata": {},
   "outputs": [],
   "source": [
    "EVALUATION_BUDGET = 100 if not SMOKE_TEST else 10\n",
    "NUM_RESTARTS = 3 if not SMOKE_TEST else 2\n",
    "RAW_SAMPLES = 51 if not SMOKE_TEST else 4\n",
    "N_CANDIDATES = min(dim, max(200, 20 * dim)) if not SMOKE_TEST else 4"
   ]
  },
  {
   "cell_type": "code",
   "execution_count": 11,
   "metadata": {},
   "outputs": [
    {
     "name": "stdout",
     "output_type": "stream",
     "text": [
      "S before increase\n",
      "tensor([[ 0.8280, -0.5608]])\n",
      "X before increase\n",
      "tensor([[ 0, 14],\n",
      "        [70, 62],\n",
      "        [50, 82],\n",
      "        [ 8, 47],\n",
      "        [26, 95],\n",
      "        [97, 14],\n",
      "        [51, 26]])\n"
     ]
    }
   ],
   "source": [
    "n_sample = 10\n",
    "X_sample = BA.get_initial_points(2, n_sample)\n",
    "S = BA.embedding_matrix_kpca(input_dim=2, target_dim=1, data=X_sample)\n",
    "X = torch.randint(100, (7, 2))\n",
    "print(f\"S before increase\\n{S}\")\n",
    "print(f\"X before increase\\n{X}\")"
   ]
  },
  {
   "cell_type": "code",
   "execution_count": 5,
   "metadata": {},
   "outputs": [
    {
     "name": "stdout",
     "output_type": "stream",
     "text": [
      "torch.Size([40, 1])\n"
     ]
    },
    {
     "name": "stderr",
     "output_type": "stream",
     "text": [
      "/var/folders/yk/hp80cpj103xfzhptqczygcv40000gn/T/ipykernel_38048/2332442669.py:21: InputDataWarning: The model inputs are of type torch.float32. It is strongly recommended to use double precision in BoTorch, as this improves both precision and stability and can help avoid numerical errors. See https://github.com/pytorch/botorch/discussions/1444\n",
      "  model = SingleTaskGP(\n",
      "/Users/jiaxuanyu/miniconda3/envs/BO/lib/python3.10/site-packages/linear_operator/utils/cholesky.py:40: NumericalWarning: A not p.d., added jitter of 1.0e-06 to the diagonal\n",
      "  warnings.warn(\n"
     ]
    },
    {
     "ename": "AttributeError",
     "evalue": "'RBFKernel' object has no attribute 'base_kernel'",
     "output_type": "error",
     "traceback": [
      "\u001b[0;31m---------------------------------------------------------------------------\u001b[0m",
      "\u001b[0;31mAttributeError\u001b[0m                            Traceback (most recent call last)",
      "Cell \u001b[0;32mIn[5], line 41\u001b[0m\n\u001b[1;32m     38\u001b[0m             optimizer\u001b[38;5;241m.\u001b[39mstep()\n\u001b[1;32m     40\u001b[0m     \u001b[38;5;66;03m# Generate new candidates\u001b[39;00m\n\u001b[0;32m---> 41\u001b[0m     X_next_target \u001b[38;5;241m=\u001b[39m \u001b[43mBA\u001b[49m\u001b[38;5;241;43m.\u001b[39;49m\u001b[43mcreate_candidate\u001b[49m\u001b[43m(\u001b[49m\n\u001b[1;32m     42\u001b[0m \u001b[43m        \u001b[49m\u001b[43mstate\u001b[49m\u001b[38;5;241;43m=\u001b[39;49m\u001b[43mstate\u001b[49m\u001b[43m,\u001b[49m\n\u001b[1;32m     43\u001b[0m \u001b[43m        \u001b[49m\u001b[43mmodel\u001b[49m\u001b[38;5;241;43m=\u001b[39;49m\u001b[43mmodel\u001b[49m\u001b[43m,\u001b[49m\n\u001b[1;32m     44\u001b[0m \u001b[43m        \u001b[49m\u001b[43mX\u001b[49m\u001b[38;5;241;43m=\u001b[39;49m\u001b[43mX_baxus_target\u001b[49m\u001b[43m,\u001b[49m\n\u001b[1;32m     45\u001b[0m \u001b[43m        \u001b[49m\u001b[43mY\u001b[49m\u001b[38;5;241;43m=\u001b[39;49m\u001b[43mtrain_Y\u001b[49m\u001b[43m,\u001b[49m\n\u001b[1;32m     46\u001b[0m \u001b[43m        \u001b[49m\u001b[43mdevice\u001b[49m\u001b[38;5;241;43m=\u001b[39;49m\u001b[43mdevice\u001b[49m\u001b[43m,\u001b[49m\n\u001b[1;32m     47\u001b[0m \u001b[43m        \u001b[49m\u001b[43mdtype\u001b[49m\u001b[38;5;241;43m=\u001b[39;49m\u001b[43mdtype\u001b[49m\u001b[43m,\u001b[49m\n\u001b[1;32m     48\u001b[0m \u001b[43m        \u001b[49m\u001b[43mn_candidates\u001b[49m\u001b[38;5;241;43m=\u001b[39;49m\u001b[43mN_CANDIDATES\u001b[49m\u001b[43m,\u001b[49m\n\u001b[1;32m     49\u001b[0m \u001b[43m        \u001b[49m\u001b[43mnum_restarts\u001b[49m\u001b[38;5;241;43m=\u001b[39;49m\u001b[43mNUM_RESTARTS\u001b[49m\u001b[43m,\u001b[49m\n\u001b[1;32m     50\u001b[0m \u001b[43m        \u001b[49m\u001b[43mraw_samples\u001b[49m\u001b[38;5;241;43m=\u001b[39;49m\u001b[43mRAW_SAMPLES\u001b[49m\u001b[43m,\u001b[49m\n\u001b[1;32m     51\u001b[0m \u001b[43m        \u001b[49m\u001b[43macqf\u001b[49m\u001b[38;5;241;43m=\u001b[39;49m\u001b[38;5;124;43m\"\u001b[39;49m\u001b[38;5;124;43mts\u001b[39;49m\u001b[38;5;124;43m\"\u001b[39;49m\u001b[43m,\u001b[49m\n\u001b[1;32m     52\u001b[0m \u001b[43m    \u001b[49m\u001b[43m)\u001b[49m\n\u001b[1;32m     54\u001b[0m \u001b[38;5;66;03m# Map new candidates to high-dimensional space\u001b[39;00m\n\u001b[1;32m     55\u001b[0m X_next_input \u001b[38;5;241m=\u001b[39m X_next_target \u001b[38;5;241m@\u001b[39m S\n",
      "File \u001b[0;32m~/Code/BO/AAA/BA.py:164\u001b[0m, in \u001b[0;36mcreate_candidate\u001b[0;34m(state, model, X, Y, device, dtype, n_candidates, num_restarts, raw_samples, acqf)\u001b[0m\n\u001b[1;32m    162\u001b[0m \u001b[38;5;66;03m# Scale the TR to be proportional to the lengthscales\u001b[39;00m\n\u001b[1;32m    163\u001b[0m x_center \u001b[38;5;241m=\u001b[39m X[Y\u001b[38;5;241m.\u001b[39margmax(), :]\u001b[38;5;241m.\u001b[39mclone()\n\u001b[0;32m--> 164\u001b[0m weights \u001b[38;5;241m=\u001b[39m \u001b[43mmodel\u001b[49m\u001b[38;5;241;43m.\u001b[39;49m\u001b[43mcovar_module\u001b[49m\u001b[38;5;241;43m.\u001b[39;49m\u001b[43mbase_kernel\u001b[49m\u001b[38;5;241m.\u001b[39mlengthscale\u001b[38;5;241m.\u001b[39mdetach()\u001b[38;5;241m.\u001b[39mview(\u001b[38;5;241m-\u001b[39m\u001b[38;5;241m1\u001b[39m)\n\u001b[1;32m    165\u001b[0m weights \u001b[38;5;241m=\u001b[39m weights \u001b[38;5;241m/\u001b[39m weights\u001b[38;5;241m.\u001b[39mmean()\n\u001b[1;32m    166\u001b[0m weights \u001b[38;5;241m=\u001b[39m weights \u001b[38;5;241m/\u001b[39m torch\u001b[38;5;241m.\u001b[39mprod(weights\u001b[38;5;241m.\u001b[39mpow(\u001b[38;5;241m1.0\u001b[39m \u001b[38;5;241m/\u001b[39m \u001b[38;5;28mlen\u001b[39m(weights)))\n",
      "File \u001b[0;32m~/miniconda3/envs/BO/lib/python3.10/site-packages/torch/nn/modules/module.py:1931\u001b[0m, in \u001b[0;36mModule.__getattr__\u001b[0;34m(self, name)\u001b[0m\n\u001b[1;32m   1929\u001b[0m     \u001b[38;5;28;01mif\u001b[39;00m name \u001b[38;5;129;01min\u001b[39;00m modules:\n\u001b[1;32m   1930\u001b[0m         \u001b[38;5;28;01mreturn\u001b[39;00m modules[name]\n\u001b[0;32m-> 1931\u001b[0m \u001b[38;5;28;01mraise\u001b[39;00m \u001b[38;5;167;01mAttributeError\u001b[39;00m(\n\u001b[1;32m   1932\u001b[0m     \u001b[38;5;124mf\u001b[39m\u001b[38;5;124m\"\u001b[39m\u001b[38;5;124m'\u001b[39m\u001b[38;5;132;01m{\u001b[39;00m\u001b[38;5;28mtype\u001b[39m(\u001b[38;5;28mself\u001b[39m)\u001b[38;5;241m.\u001b[39m\u001b[38;5;18m__name__\u001b[39m\u001b[38;5;132;01m}\u001b[39;00m\u001b[38;5;124m'\u001b[39m\u001b[38;5;124m object has no attribute \u001b[39m\u001b[38;5;124m'\u001b[39m\u001b[38;5;132;01m{\u001b[39;00mname\u001b[38;5;132;01m}\u001b[39;00m\u001b[38;5;124m'\u001b[39m\u001b[38;5;124m\"\u001b[39m\n\u001b[1;32m   1933\u001b[0m )\n",
      "\u001b[0;31mAttributeError\u001b[0m: 'RBFKernel' object has no attribute 'base_kernel'"
     ]
    }
   ],
   "source": [
    "state = BA.BaxusState(dim=dim, eval_budget=EVALUATION_BUDGET - n_init)\n",
    "n_sample = 40\n",
    "X_sample = BA.get_initial_points(state.dim, n_sample)\n",
    "S = BA.embedding_matrix_pca(input_dim=state.dim, target_dim=state.d_init, data=X_sample)\n",
    "\n",
    "# X_baxus_target = BA.get_initial_points(state.d_init, n_init)\n",
    "X_baxus_target = X_sample @ S.T\n",
    "X_baxus_target = torch.clamp(X_baxus_target, min=-5, max=5)\n",
    "\n",
    "X_baxus_input = X_baxus_target @ S\n",
    "\n",
    "Y_baxus = torch.tensor(\n",
    "        [-problem(list(x)) for x in X_baxus_input], dtype=dtype, device=device\n",
    "    ).unsqueeze(-1)\n",
    "print(Y_baxus.shape)\n",
    "with botorch.settings.validate_input_scaling(False):\n",
    "    for _ in range(EVALUATION_BUDGET - n_init):  # Run until evaluation budget depleted\n",
    "            # Fit a GP model\n",
    "            train_Y = (Y_baxus - Y_baxus.mean()) / Y_baxus.std()\n",
    "            likelihood = GaussianLikelihood(noise_constraint=Interval(1e-8, 1e-3))\n",
    "            model = SingleTaskGP(\n",
    "                X_baxus_target, train_Y, likelihood=likelihood\n",
    "            )\n",
    "            mll = ExactMarginalLogLikelihood(model.likelihood, model)\n",
    "\n",
    "            # Fit the model using Cholesky context\n",
    "            with gpytorch.settings.max_cholesky_size(max_cholesky_size):\n",
    "                try:\n",
    "                    fit_gpytorch_mll(mll)\n",
    "                except ModelFittingError:\n",
    "                    # Use Adam-based optimization if Cholesky decomposition fails\n",
    "                    optimizer = torch.optim.Adam([{\"params\": model.parameters()}], lr=0.1)\n",
    "                    for _ in range(200):\n",
    "                        optimizer.zero_grad()\n",
    "                        output = model(X_baxus_target)\n",
    "                        loss = -mll(output, train_Y.flatten())\n",
    "                        loss.backward()\n",
    "                        optimizer.step()\n",
    "\n",
    "                # Generate new candidates\n",
    "                X_next_target = BA.create_candidate(\n",
    "                    state=state,\n",
    "                    model=model,\n",
    "                    X=X_baxus_target,\n",
    "                    Y=train_Y,\n",
    "                    device=device,\n",
    "                    dtype=dtype,\n",
    "                    n_candidates=N_CANDIDATES,\n",
    "                    num_restarts=NUM_RESTARTS,\n",
    "                    raw_samples=RAW_SAMPLES,\n",
    "                    acqf=\"ts\",\n",
    "                )\n",
    "            \n",
    "            # Map new candidates to high-dimensional space\n",
    "            X_next_input = X_next_target @ S\n",
    "            Y_next = torch.tensor(\n",
    "                [-problem(list(x)) for x in X_next_input], dtype=dtype, device=device\n",
    "            ).unsqueeze(-1)\n",
    "\n",
    "            # Update state and concatenate new points\n",
    "            state = BA.update_state(state=state, Y_next=Y_next)\n",
    "            X_baxus_input = torch.cat((X_baxus_input, X_next_input), dim=0)\n",
    "            X_baxus_target = torch.cat((X_baxus_target, X_next_target), dim=0)\n",
    "            Y_baxus = torch.cat((Y_baxus, Y_next), dim=0)\n",
    "            \n",
    "            print(\n",
    "                f\"iteration {len(X_baxus_input)}, d={len(X_baxus_target.T)})  Best value: {state.best_value:.3}, TR length: {state.length:.3}\"\n",
    "            )\n",
    "\n",
    "            if state.restart_triggered:\n",
    "                state.restart_triggered = False\n",
    "                print(\"increasing target space\")\n",
    "\n",
    "                S, X_baxus_target = BA.increase_embedding_and_observations(\n",
    "                    S, X_baxus_target, state.new_bins_on_split\n",
    "                )\n",
    "                print(f\"new dimensionality: {len(S)}\")\n",
    "                \n",
    "                state.target_dim = len(S)\n",
    "                state.length = state.length_init\n",
    "                state.failure_counter = 0\n",
    "                state.success_counter = 0"
   ]
  },
  {
   "cell_type": "code",
   "execution_count": null,
   "metadata": {},
   "outputs": [],
   "source": []
  }
 ],
 "metadata": {
  "kernelspec": {
   "display_name": "BO",
   "language": "python",
   "name": "python3"
  },
  "language_info": {
   "codemirror_mode": {
    "name": "ipython",
    "version": 3
   },
   "file_extension": ".py",
   "mimetype": "text/x-python",
   "name": "python",
   "nbconvert_exporter": "python",
   "pygments_lexer": "ipython3",
   "version": "3.10.14"
  }
 },
 "nbformat": 4,
 "nbformat_minor": 2
}
