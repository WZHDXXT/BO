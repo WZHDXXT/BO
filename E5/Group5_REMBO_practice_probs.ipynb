{
  "cells": [
    {
      "cell_type": "markdown",
      "metadata": {
        "id": "s79CKVX5WwIG"
      },
      "source": [
        "\n",
        "# REMBO: Random Embedding Bayesian Optimization\n",
        "\n",
        "The REMBO (Random Embedding Bayesian Optimization) algorithm is a way to use Bayesian Optimization in extremely high-dimensional spaces. REMBO achieves this by projecting the high-dimensional optimization problem onto a randomly chosen low-dimensional subspace.\n",
        "\n",
        "### REMBO Process Breakdown\n",
        "1. **Random Matrix Generation**: We start by generating a random matrix, `A`, that maps from a low-dimensional space (`d` dimensions) to the original high-dimensional space (`D` dimensions). This matrix allows us to project points from the low-dimensional space to the original space.\n",
        "\n",
        "2. **Projection to High-Dimensional Space**: Given a point in the low-dimensional space, we use the random matrix `A` to project it back to the high-dimensional space, where the actual optimization happens.\n",
        "\n",
        "3. **Objective Function in Low Dimension**: REMBO defines an objective function in the low-dimensional space. It evaluates each low-dimensional point by projecting it to the high-dimensional space, then querying the high-dimensional objective function.\n",
        "\n",
        "4. **Gaussian Process Modeling**: A Gaussian Process (GP) is used to approximate the unknown function in the low-dimensional space. GPs are beneficial because they provide an estimate of both the function value and uncertainty at each point.\n",
        "\n",
        "5. **Optimization with Acquisition Function**: To select the best points to evaluate, REMBO uses an acquisition function in the low-dimensional space, which guides the optimization toward promising regions.\n",
        "\n",
        "---\n",
        "### Practice Problems\n",
        "\n",
        "1. **Random Matrix Generation**: Writing a function to generate a random matrix for dimensionality reduction.\n",
        "2. **Projection to High Dimension**: Implementing a function to project a low-dimensional point to the high-dimensional space.\n",
        "\n",
        "Let's get started!\n"
      ]
    },
    {
      "cell_type": "markdown",
      "metadata": {
        "id": "xQikUzaIj1X0"
      },
      "source": [
        "# Vanilla Bayeisan Optimization"
      ]
    },
    {
      "cell_type": "code",
      "execution_count": 1,
      "metadata": {
        "id": "E-ayqi9h_9pX"
      },
      "outputs": [],
      "source": [
        "import numpy as np\n",
        "from sklearn.gaussian_process import GaussianProcessRegressor\n",
        "from sklearn.gaussian_process.kernels import RBF\n",
        "from scipy.optimize import minimize\n",
        "from scipy.stats import norm\n"
      ]
    },
    {
      "cell_type": "code",
      "execution_count": 2,
      "metadata": {
        "id": "mvNtxHWaIHUX"
      },
      "outputs": [],
      "source": [
        "# Simple objective function (can be replaced with any black-box function)\n",
        "def objective_function(x):\n",
        "    return -np.sum(x**2)  # Simple quadratic function for demonstration\n",
        "\n",
        "# Acquisition function (Expected Improvement)\n",
        "def expected_improvement(x, model, best_f):\n",
        "    x = x.reshape(1, -1)\n",
        "    mu, sigma = model.predict(x, return_std=True)\n",
        "    imp = mu - best_f\n",
        "    Z = imp / sigma\n",
        "    ei = imp * norm.cdf(Z) + sigma * norm.pdf(Z)\n",
        "    return -ei  # Return negative because we're minimizing\n",
        "\n"
      ]
    },
    {
      "cell_type": "code",
      "execution_count": 3,
      "metadata": {
        "id": "9U3n-y3BqFz6"
      },
      "outputs": [
        {
          "name": "stderr",
          "output_type": "stream",
          "text": [
            "/Users/jiaxuanyu/miniconda3/envs/BO/lib/python3.10/site-packages/sklearn/gaussian_process/kernels.py:442: ConvergenceWarning: The optimal value found for dimension 0 of parameter length_scale is close to the specified lower bound 1e-05. Decreasing the bound and calling fit again may find a better value.\n",
            "  warnings.warn(\n"
          ]
        },
        {
          "name": "stdout",
          "output_type": "stream",
          "text": [
            "Best value: -0.02135295159269307\n",
            "Best point: [-0.10338235 -0.02779744 -0.01198022  0.07143468  0.06816087]\n"
          ]
        }
      ],
      "source": [
        " def bayesian_optimization(n_iterations=10, d=5):\n",
        "    # Initial random points\n",
        "    X = np.random.uniform(-1, 1, size=(5, d))\n",
        "    y = np.array([objective_function(x) for x in X])\n",
        "\n",
        "    # GP model\n",
        "    kernel = RBF(length_scale=1.0)\n",
        "    model = GaussianProcessRegressor(kernel=kernel, n_restarts_optimizer=5)\n",
        "\n",
        "    for i in range(n_iterations):\n",
        "        # Fit GP\n",
        "        model.fit(X, y)\n",
        "        best_f = np.max(y)\n",
        "\n",
        "        # Optimize acquisition function\n",
        "        x_next = minimize(\n",
        "            lambda x: expected_improvement(x, model, best_f),\n",
        "            x0=np.random.uniform(-1, 1, d),\n",
        "            bounds=[(-1, 1)] * d\n",
        "        ).x\n",
        "\n",
        "        # Evaluate and update\n",
        "        y_next = objective_function(x_next)\n",
        "        X = np.vstack((X, x_next))\n",
        "        y = np.append(y, y_next)\n",
        "\n",
        "    return X, y\n",
        "\n",
        "# Example usage\n",
        "X, y = bayesian_optimization(n_iterations=100, d=5)\n",
        "best_idx = np.argmax(y)\n",
        "print(f\"Best value: {y[best_idx]}\")\n",
        "print(f\"Best point: {X[best_idx]}\")"
      ]
    },
    {
      "cell_type": "markdown",
      "metadata": {
        "id": "mNNJB-YAjvyq"
      },
      "source": [
        "# Generate Random Matrix"
      ]
    },
    {
      "cell_type": "code",
      "execution_count": 6,
      "metadata": {
        "id": "wCJbCY13_y5C"
      },
      "outputs": [],
      "source": [
        "import numpy as np\n",
        "\n",
        "def generate_random_matrix(d, d_low):\n",
        "    \"\"\"\n",
        "    Generate a random matrix A of shape (d, d_low), where d is the original\n",
        "    high dimension, and d_low is the low dimension.\n",
        "    \"\"\"\n",
        "    A = np.random.rand(d, d_low)\n",
        "    # TODO: Implement a line here to create a matrix with a standard normal distribution\n",
        "    return A"
      ]
    },
    {
      "cell_type": "code",
      "execution_count": 7,
      "metadata": {
        "id": "PmiI4qZpXYtc"
      },
      "outputs": [
        {
          "name": "stdout",
          "output_type": "stream",
          "text": [
            "\n",
            "Original low-dim point: [-1.28552181 -0.80885252  1.21068765]\n",
            "Projected high-dim point: [-0.09200489 -0.2395214  -1.07459115 -0.0290603   0.00296578 -0.44396309\n",
            " -1.25552483 -0.84173392  0.56177476 -1.12673332]\n"
          ]
        }
      ],
      "source": [
        "# Example usage\n",
        "d = 10  # Original dimension\n",
        "d_low = 3  # Lower dimension\n",
        "\n",
        "# Generate and analyze random matrix\n",
        "A = generate_random_matrix(d, d_low)\n",
        "\n",
        "# Demonstrate how to project a point from low to high dimension\n",
        "y_low = np.random.uniform(-np.sqrt(d), np.sqrt(d), size=d_low)\n",
        "y_high = A @ y_low\n",
        "\n",
        "print(f\"\\nOriginal low-dim point: {y_low}\")\n",
        "print(f\"Projected high-dim point: {y_high}\")"
      ]
    },
    {
      "cell_type": "markdown",
      "metadata": {
        "id": "cU0x4kEfmJ7I"
      },
      "source": [
        "# Implement REMBO"
      ]
    },
    {
      "cell_type": "code",
      "execution_count": 8,
      "metadata": {
        "id": "kCM20b4-_4N1"
      },
      "outputs": [],
      "source": [
        "import numpy as np\n",
        "from sklearn.gaussian_process import GaussianProcessRegressor\n",
        "from sklearn.gaussian_process.kernels import RBF\n",
        "from scipy.optimize import minimize\n",
        "\n",
        "class REMBO:\n",
        "    def __init__(self, d, d_low):\n",
        "        self.d = d  # Original dimension\n",
        "        self.d_low = d_low  # Lower dimension\n",
        "        self.A = np.random.normal(0, 1, size=(d, d_low))\n",
        "\n",
        "        # Set bounds for low-dimensional space\n",
        "        self.bounds_low = [(-np.sqrt(d_low), np.sqrt(d_low))] * d_low\n",
        "\n",
        "    def project_to_high_dim(self, y):\n",
        "        \"\"\"\n",
        "        Project the low-dimensional point y to the high-dimensional space using matrix A.\n",
        "        \"\"\"\n",
        "        # TODO: Implement a line to project y to the high-dimensional space by matrix multiplication\n",
        "        high_dim_point = self.A @ y\n",
        "        return high_dim_point\n",
        "\n",
        "    def objective_low_dim(self, y, true_objective):\n",
        "        \"\"\"Objective function in low-dimensional space\"\"\"\n",
        "        x = self.project_to_high_dim(y)\n",
        "        return true_objective(x)\n",
        "\n",
        "    def optimize(self, objective_function, n_iterations=10):\n",
        "        # Initial points in low-dimensional space\n",
        "        Y = np.random.uniform(-np.sqrt(self.d), np.sqrt(self.d),\n",
        "                            size=(5, self.d_low))\n",
        "        z = np.array([self.objective_low_dim(y, objective_function)\n",
        "                     for y in Y])\n",
        "\n",
        "        # GP model\n",
        "        kernel = RBF(length_scale=1.0)\n",
        "        model = GaussianProcessRegressor(kernel=kernel,\n",
        "                                       n_restarts_optimizer=5)\n",
        "\n",
        "        for i in range(n_iterations):\n",
        "            # Fit GP\n",
        "            model.fit(Y, z)\n",
        "            best_f = np.max(z)\n",
        "\n",
        "            # Optimize acquisition function\n",
        "            y_next = minimize(\n",
        "                lambda y: expected_improvement(y.reshape(1, -1),\n",
        "                                            model, best_f),\n",
        "                x0=np.random.uniform(-np.sqrt(self.d_low), np.sqrt(self.d_low),\n",
        "                                   self.d_low),\n",
        "                bounds=self.bounds_low\n",
        "            ).x\n",
        "\n",
        "            # Evaluate and update\n",
        "            z_next = self.objective_low_dim(y_next, objective_function)\n",
        "            Y = np.vstack((Y, y_next))\n",
        "            z = np.append(z, z_next)\n",
        "\n",
        "        return Y, z\n",
        "\n",
        "# Example usage\n",
        "def objective_function(x):\n",
        "    return -np.sum(x**2)\n"
      ]
    },
    {
      "cell_type": "code",
      "execution_count": 9,
      "metadata": {
        "id": "09mBhESfYtSw"
      },
      "outputs": [
        {
          "name": "stdout",
          "output_type": "stream",
          "text": [
            "Best value: -0.2261163267641371\n",
            "Best point: [ 0.20806467 -0.02543929 -0.09016376 -0.05441162 -0.12085477 -0.17849208\n",
            "  0.04432647 -0.1634295   0.26594195 -0.15881965]\n",
            "Best value: -0.10106748830992233\n",
            "Best low-dim point: [0.05076884 0.04321723 0.09511027]\n",
            "Best high-dim point: [-0.10596124 -0.07726102  0.18368555  0.11715059 -0.03351835  0.07677403\n",
            " -0.03404702 -0.04486394 -0.16136986  0.01326131]\n"
          ]
        }
      ],
      "source": [
        "\n",
        "# Get best result\n",
        "\n",
        "X, y = bayesian_optimization(n_iterations=100, d=10)\n",
        "best_idx = np.argmax(y)\n",
        "print(f\"Best value: {y[best_idx]}\")\n",
        "print(f\"Best point: {X[best_idx]}\")\n",
        "\n",
        "# Initialize and run REMBO\n",
        "rembo = REMBO(d=10, d_low=3)\n",
        "Y, z = rembo.optimize(objective_function, n_iterations=100)\n",
        "\n",
        "best_idx = np.argmax(z)\n",
        "best_y = Y[best_idx]\n",
        "best_x = rembo.project_to_high_dim(best_y)\n",
        "\n",
        "print(f\"Best value: {z[best_idx]}\")\n",
        "print(f\"Best low-dim point: {best_y}\")\n",
        "print(f\"Best high-dim point: {best_x}\")"
      ]
    },
    {
      "cell_type": "code",
      "execution_count": null,
      "metadata": {
        "id": "NpRbysjFjSLI"
      },
      "outputs": [],
      "source": []
    },
    {
      "cell_type": "code",
      "execution_count": null,
      "metadata": {
        "id": "Erw7dJwfjSpf"
      },
      "outputs": [],
      "source": []
    },
    {
      "cell_type": "code",
      "execution_count": null,
      "metadata": {
        "id": "smGZVXckjSuj"
      },
      "outputs": [],
      "source": []
    },
    {
      "cell_type": "code",
      "execution_count": null,
      "metadata": {
        "id": "qTifo-mMjSzY"
      },
      "outputs": [],
      "source": []
    },
    {
      "cell_type": "code",
      "execution_count": null,
      "metadata": {
        "id": "wtR4DuggjS3d"
      },
      "outputs": [],
      "source": []
    },
    {
      "cell_type": "code",
      "execution_count": null,
      "metadata": {
        "id": "3RwLW_8hjS7n"
      },
      "outputs": [],
      "source": []
    },
    {
      "cell_type": "code",
      "execution_count": null,
      "metadata": {
        "id": "8DPOIb_CjTAC"
      },
      "outputs": [],
      "source": []
    },
    {
      "cell_type": "code",
      "execution_count": null,
      "metadata": {
        "id": "PAWB_oeTjTDy"
      },
      "outputs": [],
      "source": []
    },
    {
      "cell_type": "code",
      "execution_count": null,
      "metadata": {
        "id": "bo71j1izjTH2"
      },
      "outputs": [],
      "source": []
    },
    {
      "cell_type": "code",
      "execution_count": null,
      "metadata": {
        "id": "pjvz-bnMjTMJ"
      },
      "outputs": [],
      "source": []
    },
    {
      "cell_type": "code",
      "execution_count": null,
      "metadata": {
        "id": "ht_FAcZrjUC3"
      },
      "outputs": [],
      "source": []
    },
    {
      "cell_type": "markdown",
      "metadata": {
        "id": "b2rMEkPdjFdT"
      },
      "source": [
        "# Solutions"
      ]
    },
    {
      "cell_type": "code",
      "execution_count": null,
      "metadata": {
        "id": "falrzJVsjJrr"
      },
      "outputs": [],
      "source": [
        "def generate_random_matrix(d, d_low):\n",
        "    \"\"\"\n",
        "    Generate random matrix A ∈ R^(d×d_low) where d is original dimension\n",
        "    and d_low is lower dimension\n",
        "    \"\"\"\n",
        "    A = np.random.normal(0, 1, size=(d, d_low))\n",
        "    return A"
      ]
    },
    {
      "cell_type": "code",
      "execution_count": null,
      "metadata": {
        "id": "nwroy6K9jPZc"
      },
      "outputs": [],
      "source": [
        "def project_to_high_dim(self, y):\n",
        "        \"\"\"Project point from low to high dimension\"\"\"\n",
        "        x = self.A @ y\n",
        "        # Clip to original bounds [-1, 1]\n",
        "        return np.clip(x, -1, 1)"
      ]
    }
  ],
  "metadata": {
    "colab": {
      "provenance": []
    },
    "kernelspec": {
      "display_name": "BO",
      "language": "python",
      "name": "python3"
    },
    "language_info": {
      "codemirror_mode": {
        "name": "ipython",
        "version": 3
      },
      "file_extension": ".py",
      "mimetype": "text/x-python",
      "name": "python",
      "nbconvert_exporter": "python",
      "pygments_lexer": "ipython3",
      "version": "3.10.14"
    }
  },
  "nbformat": 4,
  "nbformat_minor": 0
}
