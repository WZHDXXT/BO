{
 "cells": [
  {
   "cell_type": "markdown",
   "id": "8a77807f92f26ee",
   "metadata": {},
   "source": [
    "# The  BAxUS algorithm in simple steps\n",
    ">BOTorch of BAxUSes Tutorial: https://botorch.org/tutorials/baxus\n",
    "\n",
    "A baxus algorithm that will implement Bayesian optimization with adaptively expanding subspaces(BAxUS) and find a sufficient subspace de."
   ]
  },
  {
   "cell_type": "markdown",
   "id": "de4b832d",
   "metadata": {},
   "source": [
    "## Objective function"
   ]
  },
  {
   "cell_type": "markdown",
   "id": "aa82f15d",
   "metadata": {},
   "source": [
    "We optimize the Branin2 function.\n",
    "\n",
    "<img src=\"braninsc2.png\">\n"
   ]
  },
  {
   "cell_type": "markdown",
   "id": "edd93b9c",
   "metadata": {},
   "source": [
    "Since the BoTorch assumes the maximization of the problem, the algorithm will look for the maximization of -f(x) and compares the results of Expected Improvement (EI) and Thompson Sampling(TS)."
   ]
  },
  {
   "cell_type": "code",
   "execution_count": 1,
   "id": "ffd019961e6ba253",
   "metadata": {
    "ExecuteTime": {
     "end_time": "2024-10-21T13:02:25.408711Z",
     "start_time": "2024-10-21T13:02:25.399247Z"
    }
   },
   "outputs": [
    {
     "name": "stdout",
     "output_type": "stream",
     "text": [
      "Looking in indexes: https://pypi.tuna.tsinghua.edu.cn/simple\n",
      "Requirement already satisfied: botorch in /Users/jiaxuanyu/miniconda3/envs/BO/lib/python3.10/site-packages (0.12.0)\n",
      "Requirement already satisfied: multipledispatch in /Users/jiaxuanyu/miniconda3/envs/BO/lib/python3.10/site-packages (from botorch) (1.0.0)\n",
      "Requirement already satisfied: scipy in /Users/jiaxuanyu/miniconda3/envs/BO/lib/python3.10/site-packages (from botorch) (1.14.1)\n",
      "Requirement already satisfied: mpmath<=1.3,>=0.19 in /Users/jiaxuanyu/miniconda3/envs/BO/lib/python3.10/site-packages (from botorch) (1.3.0)\n",
      "Requirement already satisfied: torch>=2.0.1 in /Users/jiaxuanyu/miniconda3/envs/BO/lib/python3.10/site-packages (from botorch) (2.5.0)\n",
      "Requirement already satisfied: pyro-ppl>=1.8.4 in /Users/jiaxuanyu/miniconda3/envs/BO/lib/python3.10/site-packages (from botorch) (1.9.1)\n",
      "Requirement already satisfied: typing-extensions in /Users/jiaxuanyu/miniconda3/envs/BO/lib/python3.10/site-packages (from botorch) (4.11.0)\n",
      "Requirement already satisfied: gpytorch==1.13 in /Users/jiaxuanyu/miniconda3/envs/BO/lib/python3.10/site-packages (from botorch) (1.13)\n",
      "Requirement already satisfied: linear-operator==0.5.3 in /Users/jiaxuanyu/miniconda3/envs/BO/lib/python3.10/site-packages (from botorch) (0.5.3)\n",
      "Requirement already satisfied: jaxtyping==0.2.19 in /Users/jiaxuanyu/miniconda3/envs/BO/lib/python3.10/site-packages (from gpytorch==1.13->botorch) (0.2.19)\n",
      "Requirement already satisfied: scikit-learn in /Users/jiaxuanyu/miniconda3/envs/BO/lib/python3.10/site-packages (from gpytorch==1.13->botorch) (1.5.1)\n",
      "Requirement already satisfied: numpy>=1.20.0 in /Users/jiaxuanyu/miniconda3/envs/BO/lib/python3.10/site-packages (from jaxtyping==0.2.19->gpytorch==1.13->botorch) (1.26.4)\n",
      "Requirement already satisfied: typeguard>=2.13.3 in /Users/jiaxuanyu/miniconda3/envs/BO/lib/python3.10/site-packages (from jaxtyping==0.2.19->gpytorch==1.13->botorch) (4.3.0)\n",
      "Requirement already satisfied: opt-einsum>=2.3.2 in /Users/jiaxuanyu/miniconda3/envs/BO/lib/python3.10/site-packages (from pyro-ppl>=1.8.4->botorch) (3.4.0)\n",
      "Requirement already satisfied: pyro-api>=0.1.1 in /Users/jiaxuanyu/miniconda3/envs/BO/lib/python3.10/site-packages (from pyro-ppl>=1.8.4->botorch) (0.1.2)\n",
      "Requirement already satisfied: tqdm>=4.36 in /Users/jiaxuanyu/miniconda3/envs/BO/lib/python3.10/site-packages (from pyro-ppl>=1.8.4->botorch) (4.66.5)\n",
      "Requirement already satisfied: filelock in /Users/jiaxuanyu/miniconda3/envs/BO/lib/python3.10/site-packages (from torch>=2.0.1->botorch) (3.16.1)\n",
      "Requirement already satisfied: networkx in /Users/jiaxuanyu/miniconda3/envs/BO/lib/python3.10/site-packages (from torch>=2.0.1->botorch) (3.4.1)\n",
      "Requirement already satisfied: jinja2 in /Users/jiaxuanyu/miniconda3/envs/BO/lib/python3.10/site-packages (from torch>=2.0.1->botorch) (3.1.4)\n",
      "Requirement already satisfied: fsspec in /Users/jiaxuanyu/miniconda3/envs/BO/lib/python3.10/site-packages (from torch>=2.0.1->botorch) (2024.9.0)\n",
      "Requirement already satisfied: sympy==1.13.1 in /Users/jiaxuanyu/miniconda3/envs/BO/lib/python3.10/site-packages (from torch>=2.0.1->botorch) (1.13.1)\n",
      "Requirement already satisfied: MarkupSafe>=2.0 in /Users/jiaxuanyu/miniconda3/envs/BO/lib/python3.10/site-packages (from jinja2->torch>=2.0.1->botorch) (2.1.3)\n",
      "Requirement already satisfied: joblib>=1.2.0 in /Users/jiaxuanyu/miniconda3/envs/BO/lib/python3.10/site-packages (from scikit-learn->gpytorch==1.13->botorch) (1.4.2)\n",
      "Requirement already satisfied: threadpoolctl>=3.1.0 in /Users/jiaxuanyu/miniconda3/envs/BO/lib/python3.10/site-packages (from scikit-learn->gpytorch==1.13->botorch) (3.5.0)\n"
     ]
    }
   ],
   "source": [
    "from botorch.test_functions import Branin\n",
    "!pip install botorch"
   ]
  },
  {
   "cell_type": "code",
   "execution_count": 2,
   "id": "fbc121e30a2defb3",
   "metadata": {
    "ExecuteTime": {
     "end_time": "2024-10-21T13:02:25.441477Z",
     "start_time": "2024-10-21T13:02:25.428856Z"
    }
   },
   "outputs": [
    {
     "name": "stdout",
     "output_type": "stream",
     "text": [
      "Running on cpu\n"
     ]
    }
   ],
   "source": [
    "import math\n",
    "import os\n",
    "from dataclasses import dataclass\n",
    "\n",
    "import botorch\n",
    "import gpytorch\n",
    "import matplotlib.pyplot as plt\n",
    "import numpy as np\n",
    "import torch\n",
    "from gpytorch.constraints import Interval\n",
    "from gpytorch.kernels import MaternKernel, ScaleKernel\n",
    "from gpytorch.likelihoods import GaussianLikelihood\n",
    "from gpytorch.mlls import ExactMarginalLogLikelihood\n",
    "from torch.quasirandom import SobolEngine\n",
    "\n",
    "from botorch.acquisition.analytic import LogExpectedImprovement\n",
    "from botorch.exceptions import ModelFittingError\n",
    "from botorch.fit import fit_gpytorch_mll\n",
    "from botorch.generation import MaxPosteriorSampling\n",
    "from botorch.models import SingleTaskGP\n",
    "from botorch.optim import optimize_acqf\n",
    "\n",
    "device = torch.device(\"cuda\" if torch.cuda.is_available() else \"cpu\")\n",
    "print(f\"Running on {device}\")\n",
    "dtype = torch.double\n",
    "SMOKE_TEST = os.environ.get(\"SMOKE_TEST\")"
   ]
  },
  {
   "cell_type": "markdown",
   "id": "ca312fa372245226",
   "metadata": {},
   "source": [
    "## Function using Dummy variables\n",
    "Here only the first two input dimensions are passed into the actual Branin function."
   ]
  },
  {
   "cell_type": "code",
   "execution_count": 3,
   "id": "8d6f551376fc1ca0",
   "metadata": {
    "ExecuteTime": {
     "end_time": "2024-10-21T13:02:25.619089Z",
     "start_time": "2024-10-21T13:02:25.609705Z"
    }
   },
   "outputs": [],
   "source": [
    "from botorch.test_functions import Branin\n",
    "\n",
    "branin = Branin(negate=True).to(device=device, dtype=dtype)\n",
    "\n",
    "\n",
    "def branin_emb(x):\n",
    "    \"\"\"x is assumed to be in [-1, 1]^D\"\"\"\n",
    "    lb, ub = branin.bounds\n",
    "    return branin(lb + (ub - lb) * (x[..., :2] + 1) / 2)"
   ]
  },
  {
   "cell_type": "code",
   "execution_count": 4,
   "id": "6acc463b96d21e8b",
   "metadata": {
    "ExecuteTime": {
     "end_time": "2024-10-21T13:02:25.840906Z",
     "start_time": "2024-10-21T13:02:25.834205Z"
    }
   },
   "outputs": [],
   "source": [
    "fun = branin_emb\n",
    "dim = 500 if not SMOKE_TEST else 50\n",
    "\n",
    "n_init = 10 if not SMOKE_TEST else 4\n",
    "max_cholesky_size = float(\"inf\")"
   ]
  },
  {
   "cell_type": "markdown",
   "id": "c52208cd",
   "metadata": {},
   "source": [
    "## Function formulas"
   ]
  },
  {
   "cell_type": "markdown",
   "id": "fef5f4438e2ab4a",
   "metadata": {},
   "source": [
    "**1. n_splits**:\n",
    "\n",
    "<img src=\"n_split.png\">"
   ]
  },
  {
   "cell_type": "markdown",
   "id": "ffd38bc3",
   "metadata": {},
   "source": [
    "**2. \\_\\_post_init\\_\\_()**:\n",
    "\n",
    "$i$ : (1 + np.arange(self.new_bins_on_split))\n",
    "\n",
    "$d_{init}$ : self.self.d_init\n",
    "\n",
    "$b$ : self.new_bins_on_split\n",
    "\n",
    "$D$ : dim\n",
    "\n",
    "<img src=\"dinit.png\">"
   ]
  },
  {
   "cell_type": "markdown",
   "id": "a6d92f17",
   "metadata": {},
   "source": [
    "**3. split_budget():**\n",
    "\n",
    "$b$ : self.new_bins_on_split\n",
    "\n",
    "$m_{D}$ : self.eval_budget\n",
    "\n",
    "$d_{i}$ : self.target_dim\n",
    "\n",
    "$n$ : self.n_splits\n",
    "\n",
    "<img src=\"splitbudget.png\">"
   ]
  },
  {
   "cell_type": "markdown",
   "id": "3202da9a",
   "metadata": {},
   "source": [
    "4. The failure tolerance depends on the target dimensionality\n",
    "\n",
    " **failure_tolerance():**\n",
    "\n",
    " $m_{i}^{s}$ : self.split_budget\n",
    "\n",
    "<img src=\"tfail.png\">"
   ]
  },
  {
   "cell_type": "code",
   "execution_count": 5,
   "id": "e9a343ea6f9e8050",
   "metadata": {
    "ExecuteTime": {
     "end_time": "2024-10-21T13:02:25.885232Z",
     "start_time": "2024-10-21T13:02:25.866948Z"
    }
   },
   "outputs": [],
   "source": [
    "@dataclass\n",
    "class BaxusState:\n",
    "    # dimensionality of input variables\n",
    "    dim: int \n",
    "    # evaluatoin budget\n",
    "    eval_budget: int \n",
    "    # new bins each dimension split\n",
    "    new_bins_on_split: int = 3  \n",
    "    # initial dimensionality used by the algorithm\n",
    "    d_init: int = float(\"nan\")  \n",
    "    # target dimensionality\n",
    "    target_dim: int = float(\"nan\")  \n",
    "    # number of times that has been split\n",
    "    n_splits: int = float(\"nan\") \n",
    "\n",
    "    # trust region\n",
    "    length: float = 0.8\n",
    "    length_init: float = 0.8\n",
    "    length_min: float = 0.5**7\n",
    "    length_max: float = 1.6\n",
    "    \n",
    "    failure_counter: int = 0\n",
    "    success_counter: int = 0\n",
    "\n",
    "    success_tolerance: int = 3\n",
    "    \n",
    "    # value of new best\n",
    "    best_value: float = -float(\"inf\")\n",
    "    restart_triggered: bool = False\n",
    "\n",
    "    def __post_init__(self):\n",
    "        n_splits = round(math.log(self.dim, self.new_bins_on_split + 1))\n",
    "        \n",
    "        # 1.Set the initial dimensionality d_init\n",
    "        ##### Enter your code here:\n",
    "\n",
    "        self.d_init = 1 + np.argmin(\n",
    "            np.abs(\n",
    "                (1 + np.arange(self.new_bins_on_split))\n",
    "                * (1 + self.new_bins_on_split) ** n_splits\n",
    "                - self.dim\n",
    "            )\n",
    "        )\n",
    "        \n",
    "        ##### End of code\n",
    "        \n",
    "        self.target_dim = self.d_init\n",
    "        self.n_splits = n_splits\n",
    "\n",
    "    @property\n",
    "    def split_budget(self) -> int:\n",
    "\n",
    "        # 2. Calculate the split budget\n",
    "        ##### Enter your code here:\n",
    "\n",
    "        split_budget = round(\n",
    "            -1\n",
    "            * (self.new_bins_on_split * self.eval_budget * self.target_dim)\n",
    "            / (self.d_init * (1 - (self.new_bins_on_split + 1) ** (self.n_splits + 1)))\n",
    "        )\n",
    "        return split_budget\n",
    "        \n",
    "        ##### End of code\n",
    "\n",
    "    @property\n",
    "    def failure_tolerance(self) -> int:\n",
    "        if self.target_dim == self.dim:\n",
    "            return self.target_dim\n",
    "        k = math.floor(math.log(self.length_min / self.length_init, 0.5))\n",
    "        split_budget = self.split_budget\n",
    "        \n",
    "        # 3.Calculate the failure tolerance:\n",
    "        ##### Enter your code here:\n",
    "        \n",
    "        failure_tolerance = min(self.target_dim, max(1, math.floor(split_budget / k)))\n",
    "        \n",
    "        ##### End of code\n",
    "        \n",
    "        return failure_tolerance\n",
    "\n",
    "def update_state(state, Y_next):\n",
    "    if max(Y_next) > state.best_value + 1e-3 * math.fabs(state.best_value):\n",
    "        state.success_counter += 1\n",
    "        state.failure_counter = 0\n",
    "    else:\n",
    "        state.success_counter = 0\n",
    "        state.failure_counter += 1\n",
    "\n",
    "    if state.success_counter == state.success_tolerance:  # Expand trust region\n",
    "        state.length = min(2.0 * state.length, state.length_max)\n",
    "        state.success_counter = 0\n",
    "    elif state.failure_counter == state.failure_tolerance:  # Shrink trust region by half\n",
    "        \n",
    "        # 4. Halve the length of the Trust Region\n",
    "        ##### Enter your code here:\n",
    "        \n",
    "        state.length /= 2.0\n",
    "\n",
    "        ##### End of code\n",
    "        \n",
    "        state.failure_counter = 0\n",
    "        \n",
    "        # Question: Why do we halve it?\n",
    "        # Answer: when the time of failing reaches the failure_tolerance \n",
    "        # the length of trust region will shrink to half\n",
    "        \n",
    "\n",
    "    state.best_value = max(state.best_value, max(Y_next).item())\n",
    "    if state.length < state.length_min:\n",
    "        state.restart_triggered = True\n",
    "    return state    "
   ]
  },
  {
   "cell_type": "markdown",
   "id": "267f13d2796e8223",
   "metadata": {},
   "source": [
    "## BAxUS state\n",
    "\n",
    "A state of BAxUS needs to be maintained, which means to maintain the state with the length of the Trust Region(TR), the success and failure tolerance($\\tau_{succses}$, $\\tau_{fail}$).\n",
    "\n",
    "It is assumed that the domain has been scaled to $[-1, 1]^d$"
   ]
  },
  {
   "cell_type": "code",
   "execution_count": 6,
   "id": "ca5fd3da227259cb",
   "metadata": {
    "ExecuteTime": {
     "end_time": "2024-10-21T13:02:26.563254Z",
     "start_time": "2024-10-21T13:02:26.557257Z"
    }
   },
   "outputs": [
    {
     "name": "stdout",
     "output_type": "stream",
     "text": [
      "BaxusState(dim=500, eval_budget=500, new_bins_on_split=3, d_init=2, target_dim=2, n_splits=4, length=0.8, length_init=0.8, length_min=0.0078125, length_max=1.6, failure_counter=0, success_counter=0, success_tolerance=3, best_value=-inf, restart_triggered=False)\n"
     ]
    }
   ],
   "source": [
    "state = BaxusState(dim=dim, eval_budget=500)\n",
    "print(state)"
   ]
  },
  {
   "cell_type": "markdown",
   "id": "57b12b9d",
   "metadata": {},
   "source": [
    "<img src=\"algorithm1.png\">"
   ]
  },
  {
   "cell_type": "markdown",
   "id": "4af04e92de663572",
   "metadata": {},
   "source": [
    "## Creating the BAxUS  Embedding\n",
    "\n",
    "<img src='embedding matrix.png'>"
   ]
  },
  {
   "cell_type": "markdown",
   "id": "11978d9c",
   "metadata": {},
   "source": [
    "* each column in S has exactly one non-zero entry\n",
    "\n",
    "1. create a random permutation of the input dimensions 1, . . . , D.\n",
    "\n",
    "2. The list of input dimensions is split into min(d, D) individual bins.\n",
    "\n",
    "3. 1) If d can be divided by D, all bins can have the same size.\n",
    "\n",
    "   2) the i-th bin has size ⌊D/d⌋ if  i + d⌊D/d⌋ ≤ D, otherwise ⌈D/d⌉.\n",
    "                                                      \n",
    "4. randomly assign a sign($\\pm1$) to each input dimension\n"
   ]
  },
  {
   "cell_type": "code",
   "execution_count": 7,
   "id": "cdc8aae486b73bf5",
   "metadata": {
    "ExecuteTime": {
     "end_time": "2024-10-21T13:02:25.969271Z",
     "start_time": "2024-10-21T13:02:25.948293Z"
    }
   },
   "outputs": [
    {
     "data": {
      "text/plain": [
       "tensor([[ 0.,  0.,  0.,  0., -1.,  1., -1., -1.,  0.,  0.],\n",
       "        [ 0., -1., -1.,  0.,  0.,  0.,  0.,  0.,  1.,  0.],\n",
       "        [-1.,  0.,  0.,  1.,  0.,  0.,  0.,  0.,  0., -1.]],\n",
       "       dtype=torch.float64)"
      ]
     },
     "execution_count": 7,
     "metadata": {},
     "output_type": "execute_result"
    }
   ],
   "source": [
    "def embedding_matrix(input_dim: int, target_dim: int) -> torch.Tensor:\n",
    "    if (\n",
    "        target_dim >= input_dim\n",
    "    ):  # return identity matrix if target size greater than input size\n",
    "        return torch.eye(input_dim, device=device, dtype=dtype)\n",
    "\n",
    "    input_dims_perm = (\n",
    "        torch.randperm(input_dim, device=device) + 1\n",
    "    )  # add 1 to indices for padding column in matrix\n",
    "\n",
    "    bins = torch.tensor_split(\n",
    "        input_dims_perm, target_dim\n",
    "    )  # split dims into almost equally-sized bins\n",
    "    bins = torch.nn.utils.rnn.pad_sequence(\n",
    "        bins, batch_first=True\n",
    "    )  # zero pad bins, the index 0 will be cut off later\n",
    "\n",
    "    mtrx = torch.zeros(\n",
    "\n",
    "        # 5. Input the shape of the embedding matrix\n",
    "        ##### Enter your code here:\n",
    "\n",
    "        (target_dim, input_dim + 1), dtype=dtype, device=device\n",
    "\n",
    "        ##### End of code\n",
    "    )  # add one extra column for padding\n",
    "    mtrx = mtrx.scatter_(\n",
    "        1,\n",
    "        bins,\n",
    "        2 * torch.randint(2, (target_dim, input_dim), dtype=dtype, device=device) - 1,\n",
    "    )  # fill mask with random +/- 1 at indices\n",
    "\n",
    "    return mtrx[:, 1:]  # cut off index zero as this corresponds to zero padding\n",
    "\n",
    "\n",
    "embedding_matrix(10, 3)  # example for an embedding matrix"
   ]
  },
  {
   "cell_type": "markdown",
   "id": "434d994412b781b",
   "metadata": {},
   "source": [
    "## Increase the embedding "
   ]
  },
  {
   "cell_type": "markdown",
   "id": "f792ac04",
   "metadata": {},
   "source": [
    "<img src='algorithm2.png'>"
   ]
  },
  {
   "cell_type": "markdown",
   "id": "7aec9ea1",
   "metadata": {},
   "source": [
    " The algorithm below follows Algorithm 2 on the slides.\n",
    "\n",
    " Algorithm 2 loops over the target dimensions 1, . . . , d. \n",
    " \n",
    " For each target dimension, the contributing input dimensions are randomly re-assigned to new bins of given sizes and the observations are preserved to the increased target space.  "
   ]
  },
  {
   "cell_type": "code",
   "execution_count": 8,
   "id": "b579b0e8056a7d1a",
   "metadata": {
    "ExecuteTime": {
     "end_time": "2024-10-21T13:02:26.112120Z",
     "start_time": "2024-10-21T13:02:26.094814Z"
    }
   },
   "outputs": [],
   "source": [
    "def increase_embedding_and_observations(\n",
    "    S: torch.Tensor, X: torch.Tensor, n_new_bins: int\n",
    ") -> torch.Tensor:\n",
    "    assert X.size(1) == S.size(0), \"Observations don't lie in row space of S\"\n",
    "\n",
    "    S_update = S.clone()\n",
    "    X_update = X.clone()\n",
    "\n",
    "    for row_idx in range(len(S)):\n",
    "        row = S[row_idx]\n",
    "        idxs_non_zero = torch.nonzero(row)\n",
    "        idxs_non_zero = idxs_non_zero[torch.randperm(len(idxs_non_zero))].reshape(-1)\n",
    "\n",
    "        if len(idxs_non_zero) <= 1:\n",
    "            continue\n",
    "\n",
    "        non_zero_elements = row[idxs_non_zero].reshape(-1)\n",
    "\n",
    "        n_row_bins = min(\n",
    "            n_new_bins, len(idxs_non_zero)\n",
    "        )  # number of new bins is always less or equal than the contributing input dims in the row minus one\n",
    "\n",
    "        new_bins = torch.tensor_split(idxs_non_zero, n_row_bins)[\n",
    "            1:\n",
    "        ]  # the dims in the first bin won't be moved\n",
    "        elements_to_move = torch.tensor_split(non_zero_elements, n_row_bins)[1:]\n",
    "\n",
    "        new_bins_padded = torch.nn.utils.rnn.pad_sequence(\n",
    "            new_bins, batch_first=True\n",
    "        )  # pad the tuples of bins with zeros to apply _scatter\n",
    "        els_to_move_padded = torch.nn.utils.rnn.pad_sequence(\n",
    "            elements_to_move, batch_first=True\n",
    "        )\n",
    "\n",
    "        S_stack = torch.zeros(\n",
    "            (n_row_bins - 1, len(row) + 1), device=device, dtype=dtype\n",
    "        )  # submatrix to stack on S_update\n",
    "\n",
    "        S_stack = S_stack.scatter_(\n",
    "            1, new_bins_padded + 1, els_to_move_padded\n",
    "        )  # fill with old values (add 1 to indices for padding column)\n",
    "\n",
    "        S_update[\n",
    "            row_idx, torch.hstack(new_bins)\n",
    "        ] = 0  # set values that were move to zero in current row\n",
    "\n",
    "        X_update = torch.hstack(\n",
    "            (X_update, X[:, row_idx].reshape(-1, 1).repeat(1, len(new_bins)))\n",
    "        )  # repeat observations for row at the end of X (column-wise)\n",
    "        S_update = torch.vstack(\n",
    "            (S_update, S_stack[:, 1:])\n",
    "        )  # stack onto S_update except for padding column\n",
    "\n",
    "    return S_update, X_update"
   ]
  },
  {
   "cell_type": "code",
   "execution_count": 9,
   "id": "fbdcd75ff886eb7e",
   "metadata": {
    "ExecuteTime": {
     "end_time": "2024-10-21T13:02:26.264800Z",
     "start_time": "2024-10-21T13:02:26.242368Z"
    }
   },
   "outputs": [
    {
     "name": "stdout",
     "output_type": "stream",
     "text": [
      "S before increase\n",
      "tensor([[ 0., -1.,  0.,  1.,  0.,  1.,  1.,  0.,  0.,  1.],\n",
      "        [-1.,  0., -1.,  0., -1.,  0.,  0.,  1., -1.,  0.]],\n",
      "       dtype=torch.float64)\n",
      "X before increase\n",
      "tensor([[78, 53],\n",
      "        [28, 55],\n",
      "        [55, 54],\n",
      "        [35, 20],\n",
      "        [95, 15],\n",
      "        [15, 27],\n",
      "        [14, 84]])\n"
     ]
    }
   ],
   "source": [
    "S = embedding_matrix(10, 2)\n",
    "X = torch.randint(100, (7, 2))\n",
    "print(f\"S before increase\\n{S}\")\n",
    "print(f\"X before increase\\n{X}\")"
   ]
  },
  {
   "cell_type": "code",
   "execution_count": 10,
   "id": "71e8299f",
   "metadata": {},
   "outputs": [
    {
     "name": "stdout",
     "output_type": "stream",
     "text": [
      "S after increase\n",
      "tensor([[ 0., -1.,  0.,  1.,  0.,  0.,  0.,  0.,  0.,  0.],\n",
      "        [ 0.,  0., -1.,  0.,  0.,  0.,  0.,  1.,  0.,  0.],\n",
      "        [ 0.,  0.,  0.,  0.,  0.,  1.,  0.,  0.,  0.,  1.],\n",
      "        [ 0.,  0.,  0.,  0.,  0.,  0.,  1.,  0.,  0.,  0.],\n",
      "        [ 0.,  0.,  0.,  0., -1.,  0.,  0.,  0., -1.,  0.],\n",
      "        [ 0.,  0.,  0.,  0.,  0.,  0.,  0.,  0.,  0.,  0.]],\n",
      "       dtype=torch.float64)\n",
      "X after increase\n",
      "tensor([[78, 53, 78, 78, 53, 53],\n",
      "        [28, 55, 28, 28, 55, 55],\n",
      "        [55, 54, 55, 55, 54, 54],\n",
      "        [35, 20, 35, 35, 20, 20],\n",
      "        [95, 15, 95, 95, 15, 15],\n",
      "        [15, 27, 15, 15, 27, 27],\n",
      "        [14, 84, 14, 14, 84, 84]])\n"
     ]
    }
   ],
   "source": [
    "S, X = increase_embedding_and_observations(S, X, 3)\n",
    "print(f\"S after increase\\n{S}\")\n",
    "print(f\"X after increase\\n{X}\")"
   ]
  },
  {
   "cell_type": "markdown",
   "id": "6e855c5ada93039e",
   "metadata": {},
   "source": [
    "# Sample initial data"
   ]
  },
  {
   "cell_type": "markdown",
   "id": "1bc80e03",
   "metadata": {},
   "source": [
    "sample initial set of points using Sobol before starting the loop."
   ]
  },
  {
   "cell_type": "code",
   "execution_count": 11,
   "id": "4cc8a47d6f1ceff1",
   "metadata": {
    "ExecuteTime": {
     "end_time": "2024-10-21T13:02:26.644434Z",
     "start_time": "2024-10-21T13:02:26.635688Z"
    }
   },
   "outputs": [],
   "source": [
    "def get_initial_points(dim: int, n_pts: int, seed=0):\n",
    "    sobol = SobolEngine(dimension=dim, scramble=True, seed=seed)\n",
    "    X_init = (\n",
    "        2 * sobol.draw(n=n_pts).to(dtype=dtype, device=device) - 1\n",
    "    )  # points have to be in [-1, 1]^d\n",
    "    return X_init"
   ]
  },
  {
   "cell_type": "markdown",
   "id": "0a9e5019",
   "metadata": {},
   "source": [
    "## Generate new data to be evaluated next"
   ]
  },
  {
   "cell_type": "markdown",
   "id": "e7d2b0a23ad3fd06",
   "metadata": {},
   "source": [
    "Given the current state, a Gaussian Process model has been fitted using X and Y.\n",
    "Then generate new points to be evaluated next.\n",
    "\n",
    "Acquisition Function can be Thompson Sampling or EI."
   ]
  },
  {
   "cell_type": "code",
   "execution_count": 12,
   "id": "702b9b1b94e29ae4",
   "metadata": {
    "ExecuteTime": {
     "end_time": "2024-10-21T13:02:26.736493Z",
     "start_time": "2024-10-21T13:02:26.715282Z"
    }
   },
   "outputs": [],
   "source": [
    "def create_candidate(\n",
    "    state,\n",
    "    model,  # GP model\n",
    "    X,  # Evaluated points on the domain [-1, 1]^d\n",
    "    Y,  # Function values\n",
    "    n_candidates=None,  # Number of candidates for Thompson sampling\n",
    "    num_restarts=10,\n",
    "    raw_samples=512,\n",
    "    acqf=\"ts\",  # \"ei\" or \"ts\"\n",
    "):\n",
    "    assert acqf in (\"ts\", \"ei\")\n",
    "    assert X.min() >= -1.0 and X.max() <= 1.0 and torch.all(torch.isfinite(Y))\n",
    "    if n_candidates is None:\n",
    "        n_candidates = min(5000, max(2000, 200 * X.shape[-1]))\n",
    "\n",
    "    # Scale the TR to be proportional to the lengthscales\n",
    "    x_center = X[Y.argmax(), :].clone()\n",
    "    weights = model.covar_module.lengthscale.detach().view(-1)\n",
    "    weights = weights / weights.mean()\n",
    "    weights = weights / torch.prod(weights.pow(1.0 / len(weights)))\n",
    "    tr_lb = torch.clamp(x_center - weights * state.length, -1.0, 1.0)\n",
    "    tr_ub = torch.clamp(x_center + weights * state.length, -1.0, 1.0)\n",
    "\n",
    "    if acqf == \"ts\":\n",
    "        dim = X.shape[-1]\n",
    "        sobol = SobolEngine(dim, scramble=True)\n",
    "        pert = sobol.draw(n_candidates).to(dtype=dtype, device=device)\n",
    "        pert = tr_lb + (tr_ub - tr_lb) * pert\n",
    "\n",
    "        # Create a perturbation mask\n",
    "        prob_perturb = min(20.0 / dim, 1.0)\n",
    "        mask = torch.rand(n_candidates, dim, dtype=dtype, device=device) <= prob_perturb\n",
    "        ind = torch.where(mask.sum(dim=1) == 0)[0]\n",
    "        mask[ind, torch.randint(0, dim, size=(len(ind),), device=device)] = 1\n",
    "\n",
    "        # Create candidate points from the perturbations and the mask\n",
    "        X_cand = x_center.expand(n_candidates, dim).clone()\n",
    "        X_cand[mask] = pert[mask]\n",
    "\n",
    "        # Sample on the candidate points\n",
    "        thompson_sampling = MaxPosteriorSampling(model=model, replacement=False)\n",
    "        with torch.no_grad():  # We don't need gradients when using TS\n",
    "            X_next = thompson_sampling(X_cand, num_samples=1)\n",
    "\n",
    "    elif acqf == \"ei\":\n",
    "        ei = LogExpectedImprovement(model, train_Y.max())\n",
    "        X_next, acq_value = optimize_acqf(\n",
    "            ei,\n",
    "            bounds=torch.stack([tr_lb, tr_ub]),\n",
    "            q=1,\n",
    "            num_restarts=num_restarts,\n",
    "            raw_samples=raw_samples,\n",
    "        )\n",
    "\n",
    "    return X_next"
   ]
  },
  {
   "cell_type": "markdown",
   "id": "2bc9f2427b5a6269",
   "metadata": {},
   "source": [
    "## Optimization loop\n",
    "\n",
    "Within fixed evaluation budget, BAxUS is shrinking the trust region until we reach the minimal trust region size.\n",
    "\n",
    "When the trust region size is below the threshold, BAxUS increaes the target dimensionality($d$) by splitting.\n",
    "\n",
    "Here we can set different value of budget, number of samples and restart and see the whole process.\n"
   ]
  },
  {
   "cell_type": "code",
   "execution_count": 13,
   "id": "71d61ce6",
   "metadata": {},
   "outputs": [],
   "source": [
    "EVALUATION_BUDGET = 40 if not SMOKE_TEST else 10\n",
    "NUM_RESTARTS = 3 if not SMOKE_TEST else 2\n",
    "RAW_SAMPLES = 51 if not SMOKE_TEST else 4"
   ]
  },
  {
   "cell_type": "code",
   "execution_count": 14,
   "id": "e912dd5ba73bd734",
   "metadata": {
    "ExecuteTime": {
     "end_time": "2024-10-21T13:03:04.088822Z",
     "start_time": "2024-10-21T13:02:27.020863Z"
    }
   },
   "outputs": [
    {
     "name": "stdout",
     "output_type": "stream",
     "text": [
      "S.shape: torch.Size([2, 500]), X_baxus_target.shape: torch.Size([10, 2])\n"
     ]
    },
    {
     "name": "stderr",
     "output_type": "stream",
     "text": [
      "/Users/jiaxuanyu/miniconda3/envs/BO/lib/python3.10/site-packages/linear_operator/utils/cholesky.py:40: NumericalWarning: A not p.d., added jitter of 1.0e-08 to the diagonal\n",
      "  warnings.warn(\n",
      "/Users/jiaxuanyu/miniconda3/envs/BO/lib/python3.10/site-packages/linear_operator/utils/cholesky.py:40: NumericalWarning: A not p.d., added jitter of 1.0e-08 to the diagonal\n",
      "  warnings.warn(\n",
      "/Users/jiaxuanyu/miniconda3/envs/BO/lib/python3.10/site-packages/linear_operator/utils/cholesky.py:40: NumericalWarning: A not p.d., added jitter of 1.0e-08 to the diagonal\n",
      "  warnings.warn(\n"
     ]
    },
    {
     "name": "stdout",
     "output_type": "stream",
     "text": [
      "iteration 11, d=2)  Best value: -52.2, TR length: 0.4\n",
      "iteration 12, d=2)  Best value: -6.05, TR length: 0.4\n",
      "iteration 13, d=2)  Best value: -4.7, TR length: 0.4\n"
     ]
    },
    {
     "name": "stderr",
     "output_type": "stream",
     "text": [
      "/Users/jiaxuanyu/miniconda3/envs/BO/lib/python3.10/site-packages/linear_operator/utils/cholesky.py:40: NumericalWarning: A not p.d., added jitter of 1.0e-08 to the diagonal\n",
      "  warnings.warn(\n"
     ]
    },
    {
     "name": "stdout",
     "output_type": "stream",
     "text": [
      "iteration 14, d=2)  Best value: -2.34, TR length: 0.8\n"
     ]
    },
    {
     "name": "stderr",
     "output_type": "stream",
     "text": [
      "/Users/jiaxuanyu/miniconda3/envs/BO/lib/python3.10/site-packages/linear_operator/utils/cholesky.py:40: NumericalWarning: A not p.d., added jitter of 1.0e-08 to the diagonal\n",
      "  warnings.warn(\n",
      "/Users/jiaxuanyu/miniconda3/envs/BO/lib/python3.10/site-packages/linear_operator/utils/cholesky.py:40: NumericalWarning: A not p.d., added jitter of 1.0e-08 to the diagonal\n",
      "  warnings.warn(\n"
     ]
    },
    {
     "name": "stdout",
     "output_type": "stream",
     "text": [
      "iteration 15, d=2)  Best value: -1.04, TR length: 0.8\n",
      "iteration 16, d=2)  Best value: -0.552, TR length: 0.8\n"
     ]
    },
    {
     "name": "stderr",
     "output_type": "stream",
     "text": [
      "/Users/jiaxuanyu/miniconda3/envs/BO/lib/python3.10/site-packages/linear_operator/utils/cholesky.py:40: NumericalWarning: A not p.d., added jitter of 1.0e-08 to the diagonal\n",
      "  warnings.warn(\n",
      "/Users/jiaxuanyu/miniconda3/envs/BO/lib/python3.10/site-packages/linear_operator/utils/cholesky.py:40: NumericalWarning: A not p.d., added jitter of 1.0e-08 to the diagonal\n",
      "  warnings.warn(\n",
      "/Users/jiaxuanyu/miniconda3/envs/BO/lib/python3.10/site-packages/linear_operator/utils/cholesky.py:40: NumericalWarning: A not p.d., added jitter of 1.0e-08 to the diagonal\n",
      "  warnings.warn(\n"
     ]
    },
    {
     "name": "stdout",
     "output_type": "stream",
     "text": [
      "iteration 17, d=2)  Best value: -0.552, TR length: 0.4\n",
      "iteration 18, d=2)  Best value: -0.512, TR length: 0.4\n",
      "iteration 19, d=2)  Best value: -0.512, TR length: 0.2\n"
     ]
    },
    {
     "name": "stderr",
     "output_type": "stream",
     "text": [
      "/Users/jiaxuanyu/miniconda3/envs/BO/lib/python3.10/site-packages/linear_operator/utils/cholesky.py:40: NumericalWarning: A not p.d., added jitter of 1.0e-08 to the diagonal\n",
      "  warnings.warn(\n",
      "/Users/jiaxuanyu/miniconda3/envs/BO/lib/python3.10/site-packages/linear_operator/utils/cholesky.py:40: NumericalWarning: A not p.d., added jitter of 1.0e-08 to the diagonal\n",
      "  warnings.warn(\n",
      "/Users/jiaxuanyu/miniconda3/envs/BO/lib/python3.10/site-packages/linear_operator/utils/cholesky.py:40: NumericalWarning: A not p.d., added jitter of 1.0e-08 to the diagonal\n",
      "  warnings.warn(\n"
     ]
    },
    {
     "name": "stdout",
     "output_type": "stream",
     "text": [
      "iteration 20, d=2)  Best value: -0.399, TR length: 0.2\n",
      "iteration 21, d=2)  Best value: -0.399, TR length: 0.1\n",
      "iteration 22, d=2)  Best value: -0.399, TR length: 0.05\n"
     ]
    },
    {
     "name": "stderr",
     "output_type": "stream",
     "text": [
      "/Users/jiaxuanyu/miniconda3/envs/BO/lib/python3.10/site-packages/linear_operator/utils/cholesky.py:40: NumericalWarning: A not p.d., added jitter of 1.0e-08 to the diagonal\n",
      "  warnings.warn(\n",
      "/Users/jiaxuanyu/miniconda3/envs/BO/lib/python3.10/site-packages/linear_operator/utils/cholesky.py:40: NumericalWarning: A not p.d., added jitter of 1.0e-08 to the diagonal\n",
      "  warnings.warn(\n"
     ]
    },
    {
     "name": "stdout",
     "output_type": "stream",
     "text": [
      "iteration 23, d=2)  Best value: -0.399, TR length: 0.025\n",
      "iteration 24, d=2)  Best value: -0.399, TR length: 0.0125\n"
     ]
    },
    {
     "name": "stderr",
     "output_type": "stream",
     "text": [
      "/Users/jiaxuanyu/miniconda3/envs/BO/lib/python3.10/site-packages/linear_operator/utils/cholesky.py:40: NumericalWarning: A not p.d., added jitter of 1.0e-08 to the diagonal\n",
      "  warnings.warn(\n"
     ]
    },
    {
     "name": "stdout",
     "output_type": "stream",
     "text": [
      "iteration 25, d=2)  Best value: -0.399, TR length: 0.00625\n",
      "increasing target space\n",
      "new dimensionality: 6\n",
      "iteration 26, d=6)  Best value: -0.399, TR length: 0.4\n",
      "iteration 27, d=6)  Best value: -0.399, TR length: 0.2\n",
      "iteration 28, d=6)  Best value: -0.399, TR length: 0.1\n"
     ]
    },
    {
     "name": "stderr",
     "output_type": "stream",
     "text": [
      "/Users/jiaxuanyu/miniconda3/envs/BO/lib/python3.10/site-packages/linear_operator/utils/cholesky.py:40: NumericalWarning: A not p.d., added jitter of 1.0e-08 to the diagonal\n",
      "  warnings.warn(\n"
     ]
    },
    {
     "name": "stdout",
     "output_type": "stream",
     "text": [
      "iteration 29, d=6)  Best value: -0.399, TR length: 0.05\n"
     ]
    },
    {
     "name": "stderr",
     "output_type": "stream",
     "text": [
      "/Users/jiaxuanyu/miniconda3/envs/BO/lib/python3.10/site-packages/linear_operator/utils/cholesky.py:40: NumericalWarning: A not p.d., added jitter of 1.0e-08 to the diagonal\n",
      "  warnings.warn(\n"
     ]
    },
    {
     "name": "stdout",
     "output_type": "stream",
     "text": [
      "iteration 30, d=6)  Best value: -0.399, TR length: 0.025\n"
     ]
    },
    {
     "name": "stderr",
     "output_type": "stream",
     "text": [
      "/Users/jiaxuanyu/miniconda3/envs/BO/lib/python3.10/site-packages/linear_operator/utils/cholesky.py:40: NumericalWarning: A not p.d., added jitter of 1.0e-08 to the diagonal\n",
      "  warnings.warn(\n",
      "/Users/jiaxuanyu/miniconda3/envs/BO/lib/python3.10/site-packages/linear_operator/utils/cholesky.py:40: NumericalWarning: A not p.d., added jitter of 1.0e-08 to the diagonal\n",
      "  warnings.warn(\n"
     ]
    },
    {
     "name": "stdout",
     "output_type": "stream",
     "text": [
      "iteration 31, d=6)  Best value: -0.399, TR length: 0.0125\n",
      "iteration 32, d=6)  Best value: -0.399, TR length: 0.00625\n",
      "increasing target space\n",
      "new dimensionality: 18\n",
      "iteration 33, d=18)  Best value: -0.399, TR length: 0.4\n",
      "iteration 34, d=18)  Best value: -0.399, TR length: 0.2\n",
      "iteration 35, d=18)  Best value: -0.399, TR length: 0.1\n",
      "iteration 36, d=18)  Best value: -0.399, TR length: 0.05\n",
      "iteration 37, d=18)  Best value: -0.399, TR length: 0.025\n",
      "iteration 38, d=18)  Best value: -0.399, TR length: 0.0125\n"
     ]
    },
    {
     "name": "stderr",
     "output_type": "stream",
     "text": [
      "/Users/jiaxuanyu/miniconda3/envs/BO/lib/python3.10/site-packages/linear_operator/utils/cholesky.py:40: NumericalWarning: A not p.d., added jitter of 1.0e-08 to the diagonal\n",
      "  warnings.warn(\n"
     ]
    },
    {
     "name": "stdout",
     "output_type": "stream",
     "text": [
      "iteration 39, d=18)  Best value: -0.399, TR length: 0.00625\n",
      "increasing target space\n",
      "new dimensionality: 54\n",
      "iteration 40, d=54)  Best value: -0.399, TR length: 0.4\n"
     ]
    }
   ],
   "source": [
    "N_CANDIDATES = min(dim, max(200, 20 * dim)) if not SMOKE_TEST else 4\n",
    "\n",
    "state = BaxusState(dim=dim, eval_budget=EVALUATION_BUDGET - n_init)\n",
    "S = embedding_matrix(input_dim=state.dim, target_dim=state.d_init)\n",
    "\n",
    "X_baxus_target = get_initial_points(state.d_init, n_init)\n",
    "X_baxus_input = X_baxus_target @ S\n",
    "print(f\"S.shape: {S.shape}, X_baxus_target.shape: {X_baxus_target.shape}\")\n",
    "\n",
    "Y_baxus = torch.tensor(\n",
    "    [branin_emb(x) for x in X_baxus_input], dtype=dtype, device=device\n",
    ").unsqueeze(-1)\n",
    "\n",
    "\n",
    "# Disable input scaling checks as we normalize to [-1, 1]\n",
    "with botorch.settings.validate_input_scaling(False):\n",
    "    for _ in range(EVALUATION_BUDGET - n_init):  # Run until evaluation budget depleted\n",
    "        # Fit a GP model\n",
    "        train_Y = (Y_baxus - Y_baxus.mean()) / Y_baxus.std()\n",
    "        likelihood = GaussianLikelihood(noise_constraint=Interval(1e-8, 1e-3))\n",
    "        model = SingleTaskGP(\n",
    "            X_baxus_target, train_Y, likelihood=likelihood\n",
    "        )\n",
    "        mll = ExactMarginalLogLikelihood(model.likelihood, model)\n",
    "\n",
    "        # Do the fitting and acquisition function optimization inside the Cholesky context\n",
    "        with gpytorch.settings.max_cholesky_size(max_cholesky_size):\n",
    "            # Fit the model\n",
    "            try:\n",
    "                fit_gpytorch_mll(mll)\n",
    "            except ModelFittingError:\n",
    "                # Right after increasing the target dimensionality, the covariance matrix becomes indefinite\n",
    "                # In this case, the Cholesky decomposition might fail due to numerical instabilities\n",
    "                # In this case, we revert to Adam-based optimization\n",
    "                optimizer = torch.optim.Adam([{\"params\": model.parameters()}], lr=0.1)\n",
    "\n",
    "                for _ in range(100):\n",
    "                    optimizer.zero_grad()\n",
    "                    output = model(X_baxus_target)\n",
    "                    loss = -mll(output, train_Y.flatten())\n",
    "                    loss.backward()\n",
    "                    optimizer.step()\n",
    "\n",
    "            ## 6. Create the next Batch using create_candidate function:\n",
    "            ##### Enter your code here:\n",
    "\n",
    "            X_next_target = create_candidate(\n",
    "                state=state,\n",
    "                model=model,\n",
    "                X=X_baxus_target,\n",
    "                Y=train_Y,\n",
    "                n_candidates=N_CANDIDATES,\n",
    "                num_restarts=NUM_RESTARTS,\n",
    "                raw_samples=RAW_SAMPLES,\n",
    "                acqf=\"ts\",\n",
    "            )\n",
    "            \n",
    "            ##### End of code\n",
    "        X_next_input = X_next_target @ S\n",
    "\n",
    "        Y_next = torch.tensor(\n",
    "            [branin_emb(x) for x in X_next_input], dtype=dtype, device=device\n",
    "        ).unsqueeze(-1)\n",
    "\n",
    "        # Update state\n",
    "        state = update_state(state=state, Y_next=Y_next)\n",
    "\n",
    "        # Append data\n",
    "        X_baxus_input = torch.cat((X_baxus_input, X_next_input), dim=0)\n",
    "        X_baxus_target = torch.cat((X_baxus_target, X_next_target), dim=0)\n",
    "        Y_baxus = torch.cat((Y_baxus, Y_next), dim=0)\n",
    "\n",
    "        # Print current status\n",
    "        print(\n",
    "            f\"iteration {len(X_baxus_input)}, d={len(X_baxus_target.T)})  Best value: {state.best_value:.3}, TR length: {state.length:.3}\"\n",
    "        )\n",
    "\n",
    "        if state.restart_triggered:\n",
    "            state.restart_triggered = False\n",
    "            print(\"increasing target space\")\n",
    "\n",
    "            S, X_baxus_target = increase_embedding_and_observations(\n",
    "                S, X_baxus_target, state.new_bins_on_split\n",
    "            )\n",
    "\n",
    "            print(f\"new dimensionality: {len(S)}\")\n",
    "            \n",
    "            # 7. Update the target dimensionality, length and counter\n",
    "            # the target dimensionality should be set to be the row number of S\n",
    "            # length of TR to be initialized again\n",
    "            # and reset the counter\n",
    "            \n",
    "            ##### Enter your code here:     \n",
    "            \n",
    "            state.target_dim = len(S)\n",
    "            state.length = state.length_init\n",
    "            state.failure_counter = 0\n",
    "            state.success_counter = 0\n",
    "            \n",
    "            ##### End of code"
   ]
  },
  {
   "cell_type": "markdown",
   "id": "574e06bc17337116",
   "metadata": {},
   "source": [
    "## Performance of EI \n",
    "\n",
    "Here we see the performance of expected improvement, which we can use as baseline."
   ]
  },
  {
   "cell_type": "code",
   "execution_count": 15,
   "id": "20725cfe09bc6544",
   "metadata": {
    "ExecuteTime": {
     "end_time": "2024-10-21T13:09:34.872956Z",
     "start_time": "2024-10-21T13:08:30.068554Z"
    }
   },
   "outputs": [
    {
     "name": "stdout",
     "output_type": "stream",
     "text": [
      "11) Best value: -4.16e-01\n",
      "12) Best value: -4.16e-01\n",
      "13) Best value: -4.16e-01\n",
      "14) Best value: -4.16e-01\n",
      "15) Best value: -4.16e-01\n",
      "16) Best value: -4.16e-01\n",
      "17) Best value: -4.16e-01\n",
      "18) Best value: -4.16e-01\n",
      "19) Best value: -4.16e-01\n",
      "20) Best value: -4.16e-01\n",
      "21) Best value: -4.16e-01\n",
      "22) Best value: -4.16e-01\n",
      "23) Best value: -4.16e-01\n",
      "24) Best value: -4.16e-01\n",
      "25) Best value: -4.16e-01\n",
      "26) Best value: -4.16e-01\n",
      "27) Best value: -4.16e-01\n",
      "28) Best value: -4.16e-01\n",
      "29) Best value: -4.16e-01\n",
      "30) Best value: -4.16e-01\n",
      "31) Best value: -4.16e-01\n",
      "32) Best value: -4.11e-01\n",
      "33) Best value: -4.11e-01\n",
      "34) Best value: -4.11e-01\n",
      "35) Best value: -4.11e-01\n",
      "36) Best value: -4.11e-01\n",
      "37) Best value: -4.11e-01\n",
      "38) Best value: -4.11e-01\n",
      "39) Best value: -4.11e-01\n",
      "40) Best value: -4.11e-01\n"
     ]
    }
   ],
   "source": [
    "X_ei = get_initial_points(dim, n_init)\n",
    "Y_ei = torch.tensor(\n",
    "    [branin_emb(x) for x in X_ei], dtype=dtype, device=device\n",
    ").unsqueeze(-1)\n",
    "bounds = torch.stack(\n",
    "    [\n",
    "        -torch.ones(dim, dtype=dtype, device=device),\n",
    "        torch.ones(dim, dtype=dtype, device=device),\n",
    "    ]\n",
    ")\n",
    "\n",
    "\n",
    "# Disable input scaling checks as we normalize to [-1, 1]\n",
    "with botorch.settings.validate_input_scaling(False):\n",
    "    while len(Y_ei) < len(Y_baxus):\n",
    "        train_Y = (Y_ei - Y_ei.mean()) / Y_ei.std()\n",
    "        likelihood = GaussianLikelihood(noise_constraint=Interval(1e-8, 1e-3))\n",
    "        model = SingleTaskGP(X_ei, train_Y, likelihood=likelihood)\n",
    "        mll = ExactMarginalLogLikelihood(model.likelihood, model)\n",
    "        optimizer = torch.optim.Adam([{\"params\": model.parameters()}], lr=0.1)\n",
    "        model.train()\n",
    "        model.likelihood.train()\n",
    "        for _ in range(50):\n",
    "            optimizer.zero_grad()\n",
    "            output = model(X_ei)\n",
    "            loss = -mll(output, train_Y.squeeze())\n",
    "            loss.backward()\n",
    "            optimizer.step()\n",
    "\n",
    "        # Create a batch\n",
    "        ei = LogExpectedImprovement(model, train_Y.max())\n",
    "        candidate, acq_value = optimize_acqf(\n",
    "            ei,\n",
    "            bounds=bounds,\n",
    "            q=1,\n",
    "            num_restarts=NUM_RESTARTS,\n",
    "            raw_samples=RAW_SAMPLES,\n",
    "        )\n",
    "        Y_next = torch.tensor(\n",
    "            [branin_emb(x) for x in candidate], dtype=dtype, device=device\n",
    "        ).unsqueeze(-1)\n",
    "\n",
    "        # Append data\n",
    "        X_ei = torch.cat((X_ei, candidate), axis=0)\n",
    "        Y_ei = torch.cat((Y_ei, Y_next), axis=0)\n",
    "\n",
    "        # Print current status\n",
    "        print(f\"{len(X_ei)}) Best value: {Y_ei.max().item():.2e}\")"
   ]
  },
  {
   "cell_type": "markdown",
   "id": "84043086f6421333",
   "metadata": {},
   "source": [
    "## Compare evaluation of different methods\n",
    "Sobol is a way of evenly dividing the points.\n",
    "In our case, we use it to ensure randomness is given to the sequence. \n",
    "\n",
    "Similiar to the Latin Hypercube Sampling (LHS) we had in week 2  of DoE. And we can see it as a second reference point.\n"
   ]
  },
  {
   "cell_type": "code",
   "execution_count": 16,
   "id": "fde023df6715954b",
   "metadata": {
    "ExecuteTime": {
     "end_time": "2024-10-21T13:06:29.350976Z",
     "start_time": "2024-10-21T13:06:29.306221Z"
    }
   },
   "outputs": [],
   "source": [
    "X_Sobol = (\n",
    "    SobolEngine(dim, scramble=True, seed=0)\n",
    "    .draw(len(X_baxus_input))\n",
    "    .to(dtype=dtype, device=device)\n",
    "    * 2\n",
    "    - 1\n",
    ")\n",
    "Y_Sobol = torch.tensor(\n",
    "    [branin_emb(x) for x in X_Sobol], dtype=dtype, device=device\n",
    ").unsqueeze(-1)"
   ]
  },
  {
   "cell_type": "markdown",
   "id": "7f609983",
   "metadata": {},
   "source": [
    "### Comparison of BAxUS, EI and Sobol"
   ]
  },
  {
   "cell_type": "code",
   "execution_count": 19,
   "id": "2259052b315abdb3",
   "metadata": {
    "ExecuteTime": {
     "end_time": "2024-10-21T13:06:29.898483Z",
     "start_time": "2024-10-21T13:06:29.404969Z"
    }
   },
   "outputs": [
    {
     "name": "stdout",
     "output_type": "stream",
     "text": [
      "tensor([[-37.2896],\n",
      "        [-19.0986],\n",
      "        [-87.8500],\n",
      "        [-30.6861],\n",
      "        [ -9.0158],\n",
      "        [-48.2888],\n",
      "        [-63.1267],\n",
      "        [-38.9704],\n",
      "        [-67.5360],\n",
      "        [-12.9135],\n",
      "        [ -0.4163],\n",
      "        [ -5.0805],\n",
      "        [ -5.3975],\n",
      "        [ -0.8304],\n",
      "        [-16.6693],\n",
      "        [ -9.8432],\n",
      "        [ -5.1143],\n",
      "        [ -8.3638],\n",
      "        [-24.3451],\n",
      "        [-30.5203],\n",
      "        [-34.1765],\n",
      "        [ -2.1829],\n",
      "        [ -0.4350],\n",
      "        [ -0.6747],\n",
      "        [ -2.7841],\n",
      "        [ -0.4270],\n",
      "        [ -1.2084],\n",
      "        [ -0.5055],\n",
      "        [ -0.4182],\n",
      "        [ -1.3775],\n",
      "        [ -0.5277],\n",
      "        [ -0.4112],\n",
      "        [ -0.4778],\n",
      "        [ -0.4344],\n",
      "        [ -0.4197],\n",
      "        [ -0.7716],\n",
      "        [ -0.4181],\n",
      "        [ -0.6236],\n",
      "        [ -1.5892],\n",
      "        [ -0.4685]], dtype=torch.float64)\n"
     ]
    },
    {
     "data": {
      "image/png": "[encoded data removed]",
      "text/plain": [
       "<Figure size 800x600 with 1 Axes>"
      ]
     },
     "metadata": {},
     "output_type": "display_data"
    }
   ],
   "source": [
    "%matplotlib inline\n",
    "\n",
    "names = [\"BAxUS\", \"EI\", \"Sobol\"]\n",
    "runs = [Y_baxus, Y_ei, Y_Sobol]\n",
    "print(Y_ei)\n",
    "fig, ax = plt.subplots(figsize=(8, 6))\n",
    "for name, run in zip(names, runs):\n",
    "    fx =  np.maximum.accumulate(run.cpu())\n",
    "    plt.plot(-fx + branin.optimal_value, marker=\"\", lw=3)\n",
    "\n",
    "plt.ylabel(\"Regret\", fontsize=18)\n",
    "plt.xlabel(\"Number of evaluations\", fontsize=18)\n",
    "plt.title(f\"{dim}D Embedded Branin\", fontsize=24)\n",
    "plt.xlim([0, len(Y_baxus)])\n",
    "plt.yscale(\"log\")\n",
    "\n",
    "plt.grid(True)\n",
    "plt.tight_layout()\n",
    "plt.legend(\n",
    "    names + [\"Global optimal value\"],\n",
    "    loc=\"lower center\",\n",
    "    bbox_to_anchor=(0, -0.08, 1, 1),\n",
    "    bbox_transform=plt.gcf().transFigure,\n",
    "    ncol=4,\n",
    "    fontsize=16,\n",
    ")\n",
    "plt.show()"
   ]
  },
  {
   "cell_type": "markdown",
   "id": "114ee352ddf44a9b",
   "metadata": {},
   "source": [
    "We can see that BAxUS works faster with better performance."
   ]
  },
  {
   "cell_type": "markdown",
   "id": "e099ad4b",
   "metadata": {},
   "source": []
  }
 ],
 "metadata": {
  "kernelspec": {
   "display_name": "BO",
   "language": "python",
   "name": "python3"
  },
  "language_info": {
   "codemirror_mode": {
    "name": "ipython",
    "version": 3
   },
   "file_extension": ".py",
   "mimetype": "text/x-python",
   "name": "python",
   "nbconvert_exporter": "python",
   "pygments_lexer": "ipython3",
   "version": "3.10.14"
  }
 },
 "nbformat": 4,
 "nbformat_minor": 5
}
